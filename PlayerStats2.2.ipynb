{
 "cells": [
  {
   "cell_type": "code",
   "execution_count": 1,
   "metadata": {},
   "outputs": [],
   "source": [
    "import numpy as np\n",
    "import pandas as pd\n",
    "import matplotlib.pyplot as plt\n",
    "import seaborn as sns\n",
    "from sklearn.preprocessing import StandardScaler\n",
    "from sklearn.linear_model import LinearRegression\n",
    "from sklearn.linear_model import LogisticRegression\n",
    "from sklearn.model_selection import train_test_split\n",
    "from sklearn.tree import DecisionTreeClassifier\n",
    "from sklearn.ensemble import RandomForestClassifier\n",
    "from sklearn.svm import SVC\n",
    "from sklearn.neural_network import MLPClassifier\n",
    "from sklearn.neighbors import KNeighborsClassifier\n",
    "from sklearn import model_selection\n",
    "from scipy.stats import ranksums\n",
    "\n",
    "import warnings\n",
    "warnings.filterwarnings(action='ignore')"
   ]
  },
  {
   "cell_type": "code",
   "execution_count": 2,
   "metadata": {},
   "outputs": [],
   "source": [
    "# Create a dictionary containing team's urls and what index their passing table is \n",
    "passingDict = {\"giants\":6, \"patriots\":0, \"azcardinals\":6, \"atlantafalcons\":6, \"panthers\":0, \"chicagobears\":6, \n",
    "               \"dallascowboys\":6, \"detroitlions\":6, \"packers\":0, \"therams\":6, \"vikings\":6, \"neworleanssaints\":6, \n",
    "               \"philadelphiaeagles\":6, \"49ers\":6, \"seahawks\":6, \"buccaneers\":6, \"washingtonfootball\":6, \"baltimoreravens\":6,\n",
    "               \"buffalobills\":6, \"bengals\":6, \"clevelandbrowns\":6, \"denverbroncos\":6, \"houstontexans\":6, \"colts\":6,\n",
    "               \"jaguars\":6, \"chiefs\":0, \"raiders\":6, \"chargers\":6, \"miamidolphins\":6, \"newyorkjets\":6, \"steelers\":6, \"tennesseetitans\":5}\n",
    "\n",
    "# Create a dictionary containing team's urls and what index their rushing table is \n",
    "rushingDict = {\"giants\":7, \"patriots\":1, \"azcardinals\":7, \"atlantafalcons\":7, \"panthers\":1, \"chicagobears\":7, \n",
    "               \"dallascowboys\":7, \"detroitlions\":7, \"packers\":1, \"therams\":7, \"vikings\":7, \"neworleanssaints\":7, \n",
    "               \"philadelphiaeagles\":7, \"49ers\":7, \"seahawks\":7, \"buccaneers\":7, \"washingtonfootball\":7, \"baltimoreravens\":7,\n",
    "               \"buffalobills\":7, \"bengals\":7, \"clevelandbrowns\":7, \"denverbroncos\":7, \"houstontexans\":7, \"colts\":7,\n",
    "               \"jaguars\":7, \"chiefs\":1, \"raiders\":7, \"chargers\":7, \"miamidolphins\":7, \"newyorkjets\":7, \"steelers\":7, \"tennesseetitans\":6}\n",
    "\n",
    "# Create a dictionary containing team's urls and what index their receiving table is \n",
    "receivingDict = {\"giants\":8, \"patriots\":2, \"azcardinals\":8, \"atlantafalcons\":8, \"panthers\":2, \"chicagobears\":8, \n",
    "               \"dallascowboys\":8, \"detroitlions\":8, \"packers\":2, \"therams\":8, \"vikings\":8, \"neworleanssaints\":8, \n",
    "               \"philadelphiaeagles\":8, \"49ers\":8, \"seahawks\":8, \"buccaneers\":8, \"washingtonfootball\":8, \"baltimoreravens\":8,\n",
    "               \"buffalobills\":8, \"bengals\":8, \"clevelandbrowns\":8, \"denverbroncos\":8, \"houstontexans\":8, \"colts\":8,\n",
    "               \"jaguars\":8, \"chiefs\":2, \"raiders\":8, \"chargers\":8, \"miamidolphins\":8, \"newyorkjets\":8, \"steelers\":8, \"tennesseetitans\":7}\n",
    "\n",
    "# Create a dictionary containing team's urls and what index their receiving table is \n",
    "tacklesDict = {\"giants\":9, \"patriots\":3, \"azcardinals\":9, \"atlantafalcons\":9, \"panthers\":3, \"chicagobears\":9, \n",
    "               \"dallascowboys\":9, \"detroitlions\":9, \"packers\":3, \"therams\":9, \"vikings\":9, \"neworleanssaints\":9, \n",
    "               \"philadelphiaeagles\":9, \"49ers\":9, \"seahawks\":9, \"buccaneers\":9, \"washingtonfootball\":9, \"baltimoreravens\":9,\n",
    "               \"buffalobills\":9, \"bengals\":9, \"clevelandbrowns\":9, \"denverbroncos\":9, \"houstontexans\":9, \"colts\":9,\n",
    "               \"jaguars\":9, \"chiefs\":3, \"raiders\":9, \"chargers\":9, \"miamidolphins\":9, \"newyorkjets\":9, \"steelers\":9, \"tennesseetitans\":8}\n",
    "\n",
    "# Create a dictionary containing team's urls and what index their receiving table is \n",
    "intsDict = {\"giants\":10, \"patriots\":4, \"azcardinals\":10, \"atlantafalcons\":10, \"panthers\":4, \"chicagobears\":10, \n",
    "               \"dallascowboys\":10, \"detroitlions\":10, \"packers\":4, \"therams\":10, \"vikings\":10, \"neworleanssaints\":10, \n",
    "               \"philadelphiaeagles\":10, \"49ers\":10, \"seahawks\":10, \"buccaneers\":10, \"washingtonfootball\":10, \"baltimoreravens\":10,\n",
    "               \"buffalobills\":10, \"bengals\":10, \"clevelandbrowns\":10, \"denverbroncos\":10, \"houstontexans\":10, \"colts\":10,\n",
    "               \"jaguars\":10, \"chiefs\":4, \"raiders\":10, \"chargers\":10, \"miamidolphins\":10, \"newyorkjets\":10, \"steelers\":10, \"tennesseetitans\":9}\n"
   ]
  },
  {
   "cell_type": "code",
   "execution_count": 4,
   "metadata": {},
   "outputs": [
    {
     "name": "stdout",
     "output_type": "stream",
     "text": [
      "giants\n"
     ]
    },
    {
     "ename": "IndexError",
     "evalue": "list index out of range",
     "output_type": "error",
     "traceback": [
      "\u001b[0;31m---------------------------------------------------------------------------\u001b[0m",
      "\u001b[0;31mIndexError\u001b[0m                                Traceback (most recent call last)",
      "\u001b[0;32m<ipython-input-4-25a9280d6625>\u001b[0m in \u001b[0;36m<module>\u001b[0;34m\u001b[0m\n\u001b[1;32m     14\u001b[0m     \u001b[0mteamReceivingDf\u001b[0m \u001b[0;34m=\u001b[0m \u001b[0mtableFromHtml\u001b[0m\u001b[0;34m[\u001b[0m\u001b[0mreceivingDict\u001b[0m\u001b[0;34m.\u001b[0m\u001b[0mget\u001b[0m\u001b[0;34m(\u001b[0m\u001b[0mteam\u001b[0m\u001b[0;34m)\u001b[0m\u001b[0;34m]\u001b[0m\u001b[0;34m\u001b[0m\u001b[0;34m\u001b[0m\u001b[0m\n\u001b[1;32m     15\u001b[0m     \u001b[0mteamReceivingDf\u001b[0m\u001b[0;34m[\u001b[0m\u001b[0;34m\"Team\"\u001b[0m\u001b[0;34m]\u001b[0m \u001b[0;34m=\u001b[0m \u001b[0mteam\u001b[0m\u001b[0;34m\u001b[0m\u001b[0;34m\u001b[0m\u001b[0m\n\u001b[0;32m---> 16\u001b[0;31m     \u001b[0mteamTacklesDf\u001b[0m \u001b[0;34m=\u001b[0m \u001b[0mtableFromHtml\u001b[0m\u001b[0;34m[\u001b[0m\u001b[0mtacklesDict\u001b[0m\u001b[0;34m.\u001b[0m\u001b[0mget\u001b[0m\u001b[0;34m(\u001b[0m\u001b[0mteam\u001b[0m\u001b[0;34m)\u001b[0m\u001b[0;34m]\u001b[0m\u001b[0;34m\u001b[0m\u001b[0;34m\u001b[0m\u001b[0m\n\u001b[0m\u001b[1;32m     17\u001b[0m     \u001b[0mteamTacklesDf\u001b[0m\u001b[0;34m[\u001b[0m\u001b[0;34m\"Team\"\u001b[0m\u001b[0;34m]\u001b[0m \u001b[0;34m=\u001b[0m \u001b[0mteam\u001b[0m\u001b[0;34m\u001b[0m\u001b[0;34m\u001b[0m\u001b[0m\n\u001b[1;32m     18\u001b[0m     \u001b[0mteamIntsDf\u001b[0m \u001b[0;34m=\u001b[0m \u001b[0mtableFromHtml\u001b[0m\u001b[0;34m[\u001b[0m\u001b[0mintsDict\u001b[0m\u001b[0;34m.\u001b[0m\u001b[0mget\u001b[0m\u001b[0;34m(\u001b[0m\u001b[0mteam\u001b[0m\u001b[0;34m)\u001b[0m\u001b[0;34m]\u001b[0m\u001b[0;34m\u001b[0m\u001b[0;34m\u001b[0m\u001b[0m\n",
      "\u001b[0;31mIndexError\u001b[0m: list index out of range"
     ]
    }
   ],
   "source": [
    "passingList = []\n",
    "rushingList = []\n",
    "receivingList = []\n",
    "tacklesList = []\n",
    "intsList = []\n",
    "for team in passingDict:\n",
    "    print(team)\n",
    "    url = \"https://www.\" + team + \".com/team/stats/\"\n",
    "    tableFromHtml = pd.read_html(io=url)\n",
    "    teamPassingDf = tableFromHtml[passingDict.get(team)]\n",
    "    teamPassingDf[\"Team\"] = team\n",
    "    teamRushingDf = tableFromHtml[rushingDict.get(team)]\n",
    "    teamRushingDf[\"Team\"] = team\n",
    "    teamReceivingDf = tableFromHtml[receivingDict.get(team)]\n",
    "    teamReceivingDf[\"Team\"] = team\n",
    "    teamTacklesDf = tableFromHtml[tacklesDict.get(team)]\n",
    "    teamTacklesDf[\"Team\"] = team\n",
    "    teamIntsDf = tableFromHtml[intsDict.get(team)]\n",
    "    teamIntsDf[\"Team\"] = team\n",
    "    passingList.append(teamPassingDf)\n",
    "    rushingList.append(teamRushingDf)\n",
    "    receivingList.append(teamReceivingDf)\n",
    "    tacklesList.append(teamTacklesDf)\n",
    "    intsList.append(teamIntsDf)\n",
    "    \n",
    "# Merge the list of dataframes into one dataframe \n",
    "passingDf = pd.concat(passingList)\n",
    "rushingDf = pd.concat(rushingList)\n",
    "receivingDf = pd.concat(receivingList)\n",
    "tacklesDf = pd.concat(tacklesList)\n",
    "intsDf = pd.concat(intsList)\n",
    "#passingDf"
   ]
  },
  {
   "cell_type": "code",
   "execution_count": null,
   "metadata": {},
   "outputs": [],
   "source": [
    "# Change team name into team code\n",
    "teamCodesDict = {\"chiefs\":\"kan\", \"houstontexans\":\"htx\", \"chicagobears\":\"chi\", \"detroitlions\":\"det\", \"seahawks\":\"sea\", \"atlantafalcons\":\"atl\", \"packers\":\"gnb\", \"vikings\":\"min\", \"buffalobills\":\"buf\", \"newyorkjets\":\"nyj\", \"baltimoreravens\":\"rav\", \"clevelandbrowns\":\"cle\", \"jaguars\":\"jax\", \"colts\":\"clt\", \"washingtonfootball\":\"was\", \"philadelphiaeagles\":\"phi\", \"patriots\":\"nwe\", \"miamidolphins\":\"mia\", \"raiders\":\"rai\", \"panthers\":\"car\", \"chargers\":\"sdg\", \"bengals\":\"cin\", \"neworleanssaints\":\"nor\", \"buccaneers\":\"tam\", \"azcardinals\":\"crd\", \"49ers\":\"sfo\", \"therams\":\"ram\", \"dallascowboys\":\"dal\", \"steelers\":\"pit\", \"giants\":\"nyg\", \"tennesseetitans\":\"oti\", \"denverbroncos\":\"den\"}\n",
    "passingDf[\"Team\"] = passingDf[\"Team\"].map(teamCodesDict)\n",
    "rushingDf[\"Team\"] = rushingDf[\"Team\"].map(teamCodesDict)\n",
    "receivingDf[\"Team\"] = receivingDf[\"Team\"].map(teamCodesDict)\n",
    "tacklesDf[\"Team\"] = tacklesDf[\"Team\"].map(teamCodesDict)\n",
    "intsDf[\"Team\"] = intsDf[\"Team\"].map(teamCodesDict)\n",
    "#passingDf"
   ]
  },
  {
   "cell_type": "code",
   "execution_count": null,
   "metadata": {},
   "outputs": [],
   "source": [
    "# Fill null values with 0\n",
    "passingDf = passingDf.fillna(0)\n",
    "rushingDf = rushingDf.fillna(0)\n",
    "receivingDf = receivingDf.fillna(0)\n",
    "tacklesDf = tacklesDf.fillna(0)\n",
    "intsDf = intsDf.fillna(0)"
   ]
  },
  {
   "cell_type": "code",
   "execution_count": null,
   "metadata": {
    "scrolled": false
   },
   "outputs": [],
   "source": [
    "teamCodes = [\"kan\", \"htx\", \"chi\", \"det\", \"sea\", \"atl\", \"gnb\", \"min\", \"buf\", \"nyj\", \"rav\", \"cle\", \"jax\", \"clt\", \"was\", \"phi\", \"nwe\", \"mia\", \"rai\", \"car\", \"sdg\", \"cin\", \"nor\", \"tam\", \"crd\", \"sfo\", \"ram\", \"dal\", \"pit\", \"nyg\", \"oti\", \"den\"]\n",
    "qb1List = []\n",
    "for teamCode in teamCodes:\n",
    "    qb1 = passingDf.loc[passingDf[\"Team\"] == teamCode,:].sort_values(by=[\"ATT\"],ascending=False).head(1)\n",
    "    qb1List.append(qb1)\n",
    "    \n",
    "qb1Df = pd.concat(qb1List)\n",
    "qb1Df = qb1Df.loc[:,[\"Player\",\"COMP%\",\"YDS/ATT\",\"TD%\",\"INT%\",\"RATE\",\"Team\"]]\n",
    "qb1Df\n"
   ]
  },
  {
   "cell_type": "code",
   "execution_count": null,
   "metadata": {},
   "outputs": [],
   "source": [
    "rb3List = []\n",
    "for teamCode in teamCodes:\n",
    "    rb3 = rushingDf.loc[rushingDf[\"Team\"] == teamCode,:].sort_values(by=[\"ATT\"],ascending=False).head(3)\n",
    "    rb3List.append(rb3)\n",
    "    \n",
    "rb3Df = pd.concat(rb3List)\n",
    "rb3Df"
   ]
  },
  {
   "cell_type": "code",
   "execution_count": null,
   "metadata": {},
   "outputs": [],
   "source": [
    "wr3List = []\n",
    "for teamCode in teamCodes:\n",
    "    wr3 = receivingDf.loc[receivingDf[\"Team\"] == teamCode,:].sort_values(by=[\"REC\"],ascending=False).head(3)\n",
    "    wr3List.append(wr3)\n",
    "    \n",
    "wr3Df = pd.concat(wr3List)\n",
    "wr3Df"
   ]
  },
  {
   "cell_type": "code",
   "execution_count": null,
   "metadata": {},
   "outputs": [],
   "source": [
    "tk5List = []\n",
    "for teamCode in teamCodes:\n",
    "    tk5 = tacklesDf.loc[tacklesDf[\"Team\"] == teamCode,:].sort_values(by=[\"TOTAL\"],ascending=False).head(5)\n",
    "    tk5List.append(tk5)\n",
    "    \n",
    "tk5Df = pd.concat(tk5List)\n",
    "tk5Df"
   ]
  },
  {
   "cell_type": "code",
   "execution_count": null,
   "metadata": {},
   "outputs": [],
   "source": [
    "in2List = []\n",
    "for teamCode in teamCodes:\n",
    "    in2 = intsDf.loc[intsDf[\"Team\"] == teamCode,:].sort_values(by=[\"INT\"],ascending=False).head(2)\n",
    "    in2List.append(in2)\n",
    "    \n",
    "in2Df = pd.concat(in2List)\n",
    "in2Df"
   ]
  },
  {
   "cell_type": "code",
   "execution_count": null,
   "metadata": {},
   "outputs": [],
   "source": [
    "# Get the game schedule data to get the outcomes of each game\n",
    "# Create a list to store dataframes for each team\n",
    "allGamesList = []\n",
    "# Loop through all teamCodes, getting a dataframe from the respective url\n",
    "for teamCode in teamCodes:\n",
    "    # Get the dataframe\n",
    "    url = \"https://www.pro-football-reference.com/teams/\" + teamCode + \"/2020.htm\"\n",
    "    gamesFromHtml = pd.read_html(io=url)\n",
    "    gamesDf = gamesFromHtml[1]\n",
    "    # Merge first level of column names\n",
    "    gamesDf.columns = gamesDf.columns.map('|'.join).str.strip('|')\n",
    "    # Change some column names\n",
    "    gamesDf = gamesDf.rename(columns={\"Unnamed: 0_level_0|Week\":\"Week\", \"Unnamed: 5_level_0|Unnamed: 5_level_1\":\"Win/Loss\", \"Score|Tm\":\"Points\", \"Unnamed: 9_level_0|Opp\":\"Opp\", \"Offense|1stD\":\"1stD-O\", \"Offense|TotYd\":\"TotYd-O\", \"Offense|PassY\":\"PassY-O\", \"Offense|RushY\":\"RushY-O\", \"Offense|TO\":\"TO-O\", \"Defense|1stD\":\"1stD-D\", \"Defense|TotYd\":\"TotYd-D\", \"Defense|PassY\":\"PassY-D\", \"Defense|RushY\":\"RushY-D\", \"Defense|TO\":\"TO-D\"})\n",
    "    # Get only the games that have been played so far\n",
    "    gamesDf = gamesDf.loc[gamesDf[\"Win/Loss\"].notnull(),:]\n",
    "    # Get only the important columns\n",
    "    gamesDf = gamesDf.loc[:, [\"Week\", \"Win/Loss\", \"Opp\"]]\n",
    "    #gamesDf = gamesDf.loc[:, [\"Week\", \"Win/Loss\", \"Points\", \"Opp\", \"1stD\", \"TotYd\", \"PassY\", \"RushY\", \"TO\", \"1stD\", \"TotYd\", \"PassY\", \"RushY\", \"TO\"]]\n",
    "    gamesDf[\"TeamCode\"] = teamCode\n",
    "    # Add this dataframe to the list of all team dataframes\n",
    "    allGamesList.append(gamesDf)\n",
    "    \n",
    "allGamesDf = pd.concat(allGamesList)\n",
    "allGamesDf = allGamesDf.fillna(0)\n",
    "teamCodesDict2 = {\"Kansas City Chiefs\":\"kan\", \"Houston Texans\":\"htx\", \"Chicago Bears\":\"chi\", \"Detroit Lions\":\"det\", \"Seattle Seahawks\":\"sea\", \"Atlanta Falcons\":\"atl\", \"Green Bay Packers\":\"gnb\", \"Minnesota Vikings\":\"min\", \"Buffalo Bills\":\"buf\", \"New York Jets\":\"nyj\", \"Baltimore Ravens\":\"rav\", \"Cleveland Browns\":\"cle\", \"Jacksonville Jaguars\":\"jax\", \"Indianapolis Colts\":\"clt\", \"Washington Football Team\":\"was\", \"Philadelphia Eagles\":\"phi\", \"New England Patriots\":\"nwe\", \"Miami Dolphins\":\"mia\", \"Las Vegas Raiders\":\"rai\", \"Carolina Panthers\":\"car\", \"Los Angeles Chargers\":\"sdg\", \"Cincinnati Bengals\":\"cin\", \"New Orleans Saints\":\"nor\", \"Tampa Bay Buccaneers\":\"tam\", \"Arizona Cardinals\":\"crd\", \"San Francisco 49ers\":\"sfo\", \"Los Angeles Rams\":\"ram\", \"Dallas Cowboys\":\"dal\", \"Pittsburgh Steelers\":\"pit\", \"New York Giants\":\"nyg\", \"Tennessee Titans\":\"oti\", \"Denver Broncos\":\"den\"}\n",
    "allGamesDf[\"Opp\"] = allGamesDf[\"Opp\"].map(teamCodesDict2)\n",
    "wlDict = {\"W\":\"1\", \"L\":\"0\", \"T\":\"0\"}\n",
    "allGamesDf[\"Win/Loss\"] = allGamesDf[\"Win/Loss\"].map(wlDict)\n",
    "#allGamesDf"
   ]
  },
  {
   "cell_type": "code",
   "execution_count": null,
   "metadata": {},
   "outputs": [],
   "source": [
    "trainGamesDf, testGamesDf = train_test_split(allGamesDf, test_size=0.1, random_state=1)\n",
    "#trainGamesDf"
   ]
  },
  {
   "cell_type": "code",
   "execution_count": null,
   "metadata": {},
   "outputs": [],
   "source": [
    "# Scale all the dataframes\n",
    "scaler = StandardScaler()\n",
    "qb1Df.iloc[:,1:6] = scaler.fit_transform(qb1Df.iloc[:,1:6])\n",
    "scaler = StandardScaler()\n",
    "rb3Df.iloc[:,1:6] = scaler.fit_transform(rb3Df.iloc[:,1:6])\n",
    "scaler = StandardScaler()\n",
    "wr3Df.iloc[:,1:6] = scaler.fit_transform(wr3Df.iloc[:,1:6])\n",
    "scaler = StandardScaler()\n",
    "tk5Df.iloc[:,1:7] = scaler.fit_transform(tk5Df.iloc[:,1:7])\n",
    "scaler = StandardScaler()\n",
    "in2Df.iloc[:,1:6] = scaler.fit_transform(in2Df.iloc[:,1:6])\n"
   ]
  },
  {
   "cell_type": "code",
   "execution_count": null,
   "metadata": {},
   "outputs": [],
   "source": [
    "# For each player, add a column for each week with 1 or 0 for win or loss\n",
    "         \n",
    "for i in range(1,allGamesDf[\"Week\"].max()+1):\n",
    "    #print(i)\n",
    "    qb1Df[\"Week\" + str(i)] = 0\n",
    "    rb3Df[\"Week\" + str(i)] = 0\n",
    "    wr3Df[\"Week\" + str(i)] = 0\n",
    "    tk5Df[\"Week\" + str(i)] = 0\n",
    "    in2Df[\"Week\" + str(i)] = 0\n",
    "    for gamesIndex, gamesRow in allGamesDf.iterrows():\n",
    "        for j in range(qb1Df[\"Player\"].size):\n",
    "            if gamesRow[\"Week\"] == i and gamesRow[\"TeamCode\"] == qb1Df.iloc[j,6]:\n",
    "                qb1Df.iloc[j,6+i] = gamesRow[\"Win/Loss\"]\n",
    "        for j in range(rb3Df[\"Player\"].size):\n",
    "            if gamesRow[\"Week\"] == i and gamesRow[\"TeamCode\"] == rb3Df.iloc[j,6]:\n",
    "                rb3Df.iloc[j,6+i] = gamesRow[\"Win/Loss\"]\n",
    "        for j in range(wr3Df[\"Player\"].size):\n",
    "            if gamesRow[\"Week\"] == i and gamesRow[\"TeamCode\"] == wr3Df.iloc[j,6]:\n",
    "                wr3Df.iloc[j,6+i] = gamesRow[\"Win/Loss\"]\n",
    "        for j in range(tk5Df[\"Player\"].size):\n",
    "            if gamesRow[\"Week\"] == i and gamesRow[\"TeamCode\"] == tk5Df.iloc[j,7]:\n",
    "                tk5Df.iloc[j,7+i] = gamesRow[\"Win/Loss\"]\n",
    "        for j in range(in2Df[\"Player\"].size):\n",
    "            if gamesRow[\"Week\"] == i and gamesRow[\"TeamCode\"] == in2Df.iloc[j,6]:\n",
    "                in2Df.iloc[j,6+i] = gamesRow[\"Win/Loss\"]\n",
    "    \n",
    "qb1Df"
   ]
  },
  {
   "cell_type": "code",
   "execution_count": null,
   "metadata": {},
   "outputs": [],
   "source": [
    "# Create a training set of passingDf by getting only the weeks in the training data \n",
    "trainPassingDfColumnNames = [\"Player\", \"Team\",\"COMP%\", \"YDS/ATT\", \"TD%\",\"INT%\", \"RATE\",\"Win/Loss\"]\n",
    "trainQB1Df = pd.DataFrame(columns = trainPassingDfColumnNames)\n",
    "\n",
    "# For each game in the training data, get the passing stats of the team who played that game, along with the outcome of the game\n",
    "weekToWinLossDict = {\"Week1\":\"Win/Loss\", \"Week2\":\"Win/Loss\",\"Week3\":\"Win/Loss\",\"Week4\":\"Win/Loss\",\"Week5\":\"Win/Loss\",\"Week6\":\"Win/Loss\",\"Week7\":\"Win/Loss\",\"Week8\":\"Win/Loss\",\"Week9\":\"Win/Loss\",\"Week10\":\"Win/Loss\",\"Week11\":\"Win/Loss\",\"Week12\":\"Win/Loss\",\"Week13\":\"Win/Loss\",\"Week14\":\"Win/Loss\",\"Week15\":\"Win/Loss\",\"Week16\":\"Win/Loss\",\"Week17\":\"Win/Loss\"}\n",
    "for gamesIndex, gamesRow in trainGamesDf.iterrows():\n",
    "    #print(\"Week\"+str(gamesRow[\"Week\"]))\n",
    "    weekQB1Df = qb1Df.loc[gamesRow[\"TeamCode\"] == qb1Df[\"Team\"],[\"Player\", \"Team\",\"COMP%\", \"YDS/ATT\", \"TD%\",\"INT%\", \"RATE\",\"Week\"+str(gamesRow[\"Week\"])]]\n",
    "    #weekPassingDf = weekPassingDf.rename(columns=weekToWinLossDict)\n",
    "    weekQB1Df = weekQB1Df.rename(weekToWinLossDict,axis=\"columns\")\n",
    "    trainQB1Df = trainQB1Df.append(weekQB1Df)\n",
    "    \n",
    "trainQB1Df\n"
   ]
  },
  {
   "cell_type": "code",
   "execution_count": null,
   "metadata": {},
   "outputs": [],
   "source": [
    "# Create a test set of passingDf by getting only the weeks in the training data \n",
    "testPassingDfColumnNames = [\"Player\", \"Team\",\"COMP%\", \"YDS/ATT\", \"TD%\",\"INT%\", \"RATE\",\"Win/Loss\"]\n",
    "testQB1Df = pd.DataFrame(columns = testPassingDfColumnNames)\n",
    "\n",
    "# For each game in the test data, get the passing stats of the team who played that game, along with the outcome of the game\n",
    "for gamesIndex, gamesRow in testGamesDf.iterrows():\n",
    "    #print(\"Week\"+str(gamesRow[\"Week\"]))\n",
    "    weekQB1Df = qb1Df.loc[gamesRow[\"TeamCode\"] == qb1Df[\"Team\"],[\"Player\", \"Team\",\"COMP%\", \"YDS/ATT\", \"TD%\",\"INT%\", \"RATE\",\"Week\"+str(gamesRow[\"Week\"])]]\n",
    "    #weekPassingDf = weekPassingDf.rename(columns=weekToWinLossDict)\n",
    "    weekQB1Df = weekQB1Df.rename(weekToWinLossDict,axis=\"columns\")\n",
    "    testQB1Df = testQB1Df.append(weekQB1Df)\n",
    "    \n",
    "testQB1Df\n"
   ]
  },
  {
   "cell_type": "code",
   "execution_count": null,
   "metadata": {},
   "outputs": [],
   "source": [
    "trainRB3DfColumnNames = [\"Player\", \"Team\",\"ATT\", \"YDS\", \"YDS/ATT\", \"LNG\", \"TD\",\"Win/Loss\"]\n",
    "trainRB3Df = pd.DataFrame(columns = trainRB3DfColumnNames)\n",
    "\n",
    "for gamesIndex, gamesRow in trainGamesDf.iterrows():\n",
    "    #print(\"Week\"+str(gamesRow[\"Week\"]))\n",
    "    weekRB3Df = rb3Df.loc[gamesRow[\"TeamCode\"] == rb3Df[\"Team\"],[\"Player\", \"Team\",\"ATT\", \"YDS\", \"YDS/ATT\", \"LNG\", \"TD\",\"Week\"+str(gamesRow[\"Week\"])]]\n",
    "    weekRB3Df = weekRB3Df.rename(weekToWinLossDict,axis=\"columns\")\n",
    "    trainRB3Df = trainRB3Df.append(weekRB3Df)\n",
    "    \n",
    "#trainRB3Df\n",
    "    \n",
    "    \n",
    "    "
   ]
  },
  {
   "cell_type": "code",
   "execution_count": null,
   "metadata": {},
   "outputs": [],
   "source": [
    "testRB3DfColumnNames = [\"Player\", \"Team\",\"ATT\", \"YDS\", \"YDS/ATT\", \"LNG\", \"TD\",\"Win/Loss\"]\n",
    "testRB3Df = pd.DataFrame(columns = testRB3DfColumnNames)\n",
    "\n",
    "for gamesIndex, gamesRow in testGamesDf.iterrows():\n",
    "    #print(\"Week\"+str(gamesRow[\"Week\"]))\n",
    "    weekRB3Df = rb3Df.loc[gamesRow[\"TeamCode\"] == rb3Df[\"Team\"],[\"Player\", \"Team\",\"ATT\", \"YDS\", \"YDS/ATT\", \"LNG\", \"TD\",\"Week\"+str(gamesRow[\"Week\"])]]\n",
    "    weekRB3Df = weekRB3Df.rename(weekToWinLossDict,axis=\"columns\")\n",
    "    testRB3Df = testRB3Df.append(weekRB3Df)\n",
    "    \n",
    "#testRB3Df\n",
    "    "
   ]
  },
  {
   "cell_type": "code",
   "execution_count": null,
   "metadata": {},
   "outputs": [],
   "source": [
    "trainWR3DfColumnNames = [\"Player\",\"Team\",\"REC\",\"YDS\",\"YDS/REC\",\"LNG\",\"TD\",\"Win/Loss\"]\n",
    "trainWR3Df = pd.DataFrame(columns = trainWR3DfColumnNames)\n",
    "\n",
    "for gamesIndex, gamesRow in trainGamesDf.iterrows():\n",
    "    #print(\"Week\"+str(gamesRow[\"Week\"]))\n",
    "    weekWR3Df = wr3Df.loc[gamesRow[\"TeamCode\"] == wr3Df[\"Team\"],[\"Player\", \"Team\",\"REC\",\"YDS\",\"YDS/REC\",\"LNG\",\"TD\",\"Week\"+str(gamesRow[\"Week\"])]]\n",
    "    weekWR3Df = weekWR3Df.rename(weekToWinLossDict,axis=\"columns\")\n",
    "    trainWR3Df = trainWR3Df.append(weekWR3Df)\n",
    "    \n",
    "#trainWR3Df"
   ]
  },
  {
   "cell_type": "code",
   "execution_count": null,
   "metadata": {},
   "outputs": [],
   "source": [
    "testWR3DfColumnNames = [\"Player\",\"Team\",\"REC\",\"YDS\",\"YDS/REC\",\"LNG\",\"TD\",\"Win/Loss\"]\n",
    "testWR3Df = pd.DataFrame(columns = testWR3DfColumnNames)\n",
    "\n",
    "for gamesIndex, gamesRow in testGamesDf.iterrows():\n",
    "    #print(\"Week\"+str(gamesRow[\"Week\"]))\n",
    "    weekWR3Df = wr3Df.loc[gamesRow[\"TeamCode\"] == wr3Df[\"Team\"],[\"Player\", \"Team\",\"REC\",\"YDS\",\"YDS/REC\",\"LNG\",\"TD\",\"Week\"+str(gamesRow[\"Week\"])]]\n",
    "    weekWR3Df = weekWR3Df.rename(weekToWinLossDict,axis=\"columns\")\n",
    "    testWR3Df = testWR3Df.append(weekWR3Df)\n",
    "    \n",
    "#testWR3Df"
   ]
  },
  {
   "cell_type": "code",
   "execution_count": null,
   "metadata": {},
   "outputs": [],
   "source": [
    "trainTK5DfColumnNames = [\"Player\",\"Team\",\"TOTAL\", \"SOLO\", \"ASSIST\", \"SCK\", \"SFTY\", \"F\"]\n",
    "trainTK5Df = pd.DataFrame(columns = trainTK5DfColumnNames)\n",
    "\n",
    "for gamesIndex, gamesRow in trainGamesDf.iterrows():\n",
    "    #print(\"Week\"+str(gamesRow[\"Week\"]))\n",
    "    weekTK5Df = tk5Df.loc[gamesRow[\"TeamCode\"] == tk5Df[\"Team\"],[\"Player\", \"Team\",\"TOTAL\", \"SOLO\", \"ASSIST\", \"SCK\", \"SFTY\", \"F\",\"Week\"+str(gamesRow[\"Week\"])]]\n",
    "    weekTK5Df = weekTK5Df.rename(weekToWinLossDict,axis=\"columns\")\n",
    "    trainTK5Df = trainTK5Df.append(weekTK5Df)\n",
    "    \n",
    "#trainTK5Df"
   ]
  },
  {
   "cell_type": "code",
   "execution_count": null,
   "metadata": {},
   "outputs": [],
   "source": [
    "testTK5DfColumnNames = [\"Player\",\"Team\",\"TOTAL\", \"SOLO\", \"ASSIST\", \"SCK\", \"SFTY\", \"F\"]\n",
    "testTK5Df = pd.DataFrame(columns = testTK5DfColumnNames)\n",
    "\n",
    "for gamesIndex, gamesRow in testGamesDf.iterrows():\n",
    "    #print(\"Week\"+str(gamesRow[\"Week\"]))\n",
    "    weekTK5Df = tk5Df.loc[gamesRow[\"TeamCode\"] == tk5Df[\"Team\"],[\"Player\", \"Team\",\"TOTAL\", \"SOLO\", \"ASSIST\", \"SCK\", \"SFTY\", \"F\",\"Week\"+str(gamesRow[\"Week\"])]]\n",
    "    weekTK5Df = weekTK5Df.rename(weekToWinLossDict,axis=\"columns\")\n",
    "    testTK5Df = testTK5Df.append(weekTK5Df)\n",
    "    \n",
    "#testTK5Df"
   ]
  },
  {
   "cell_type": "code",
   "execution_count": null,
   "metadata": {},
   "outputs": [],
   "source": [
    "trainIN2DfColumnNames = [\"Player\",\"Team\",\"INT\", \"YDS\", \"YDS/REC\", \"LNG\", \"TDS\"]\n",
    "trainIN2Df = pd.DataFrame(columns = trainIN2DfColumnNames)\n",
    "\n",
    "for gamesIndex, gamesRow in trainGamesDf.iterrows():\n",
    "    #print(\"Week\"+str(gamesRow[\"Week\"]))\n",
    "    weekIN2Df = in2Df.loc[gamesRow[\"TeamCode\"] == in2Df[\"Team\"],[\"Player\", \"Team\",\"INT\", \"YDS\", \"YDS/REC\", \"LNG\", \"TDS\",\"Week\"+str(gamesRow[\"Week\"])]]\n",
    "    weekIN2Df = weekIN2Df.rename(weekToWinLossDict,axis=\"columns\")\n",
    "    trainIN2Df = trainIN2Df.append(weekIN2Df)\n",
    "    \n",
    "#trainIN2Df"
   ]
  },
  {
   "cell_type": "code",
   "execution_count": null,
   "metadata": {},
   "outputs": [],
   "source": [
    "testIN2DfColumnNames = [\"Player\",\"Team\",\"INT\", \"YDS\", \"YDS/REC\", \"LNG\", \"TDS\"]\n",
    "testIN2Df = pd.DataFrame(columns = testIN2DfColumnNames)\n",
    "\n",
    "for gamesIndex, gamesRow in testGamesDf.iterrows():\n",
    "    #print(\"Week\"+str(gamesRow[\"Week\"]))\n",
    "    weekIN2Df = in2Df.loc[gamesRow[\"TeamCode\"] == in2Df[\"Team\"],[\"Player\", \"Team\",\"INT\", \"YDS\", \"YDS/REC\", \"LNG\", \"TDS\",\"Week\"+str(gamesRow[\"Week\"])]]\n",
    "    weekIN2Df = weekIN2Df.rename(weekToWinLossDict,axis=\"columns\")\n",
    "    testIN2Df = testIN2Df.append(weekIN2Df)\n",
    "    \n",
    "#testIN2Df"
   ]
  },
  {
   "cell_type": "code",
   "execution_count": null,
   "metadata": {},
   "outputs": [],
   "source": [
    "# Split the training and test qb1Df into X and Y\n",
    "XTrainQB1Df = trainQB1Df.loc[:,[\"COMP%\", \"YDS/ATT\", \"TD%\",\"INT%\", \"RATE\"]]\n",
    "YTrainQB1Df = trainQB1Df.loc[:,[\"Win/Loss\"]]\n",
    "XTestQB1Df = testQB1Df.loc[:,[\"COMP%\", \"YDS/ATT\", \"TD%\",\"INT%\", \"RATE\"]]\n",
    "YTestQB1Df = testQB1Df.loc[:,[\"Win/Loss\"]]\n"
   ]
  },
  {
   "cell_type": "code",
   "execution_count": null,
   "metadata": {},
   "outputs": [],
   "source": [
    "# Train a linear regression model on the qb1 training data\n",
    "qb1LinRegModel = LinearRegression()\n",
    "qb1LinRegModel.fit(XTrainQB1Df,YTrainQB1Df)\n",
    "qb1LinRegModel.coef_"
   ]
  },
  {
   "cell_type": "code",
   "execution_count": null,
   "metadata": {},
   "outputs": [],
   "source": [
    "# Split the training and test rb3Df into X and Y\n",
    "XTrainRB3Df = trainRB3Df.loc[:,[\"ATT\", \"YDS\", \"YDS/ATT\", \"LNG\", \"TD\"]]\n",
    "YTrainRB3Df = trainRB3Df.loc[:,[\"Win/Loss\"]]\n",
    "XTestRB3Df = testRB3Df.loc[:,[\"ATT\", \"YDS\", \"YDS/ATT\", \"LNG\", \"TD\"]]\n",
    "YTestRB3Df = testRB3Df.loc[:,[\"Win/Loss\"]]\n",
    "\n",
    "# Train a linear regression model on the rb3 training data\n",
    "rb3LinRegModel = LinearRegression()\n",
    "rb3LinRegModel.fit(XTrainRB3Df,YTrainRB3Df)\n",
    "rb3LinRegModel.coef_\n"
   ]
  },
  {
   "cell_type": "code",
   "execution_count": null,
   "metadata": {},
   "outputs": [],
   "source": [
    "# Split the training and test wr3Df into X and Y\n",
    "XTrainWR3Df = trainWR3Df.loc[:,[\"REC\",\"YDS\",\"YDS/REC\",\"LNG\",\"TD\"]]\n",
    "YTrainWR3Df = trainWR3Df.loc[:,[\"Win/Loss\"]]\n",
    "XTestWR3Df = testWR3Df.loc[:,[\"REC\",\"YDS\",\"YDS/REC\",\"LNG\",\"TD\"]]\n",
    "YTestWR3Df = testWR3Df.loc[:,[\"Win/Loss\"]]\n",
    "\n",
    "# Train a linear regression model on the wr3 training data\n",
    "wr3LinRegModel = LinearRegression()\n",
    "wr3LinRegModel.fit(XTrainWR3Df,YTrainWR3Df)\n",
    "wr3LinRegModel.coef_"
   ]
  },
  {
   "cell_type": "code",
   "execution_count": null,
   "metadata": {},
   "outputs": [],
   "source": [
    "# Split the training and test tk5Df into X and Y\n",
    "XTrainTK5Df = trainTK5Df.loc[:,[\"TOTAL\", \"SOLO\", \"ASSIST\", \"SCK\", \"SFTY\", \"F\"]]\n",
    "YTrainTK5Df = trainTK5Df.loc[:,[\"Win/Loss\"]]\n",
    "XTestTK5Df = testTK5Df.loc[:,[\"TOTAL\", \"SOLO\", \"ASSIST\", \"SCK\", \"SFTY\", \"F\"]]\n",
    "YTestTK5Df = testTK5Df.loc[:,[\"Win/Loss\"]]\n",
    "\n",
    "# Train a linear regression model on the tk5 training data\n",
    "tk5LinRegModel = LinearRegression()\n",
    "tk5LinRegModel.fit(XTrainTK5Df,YTrainTK5Df)\n",
    "tk5LinRegModel.coef_"
   ]
  },
  {
   "cell_type": "code",
   "execution_count": null,
   "metadata": {},
   "outputs": [],
   "source": [
    "# Split the training and test in2Df into X and Y\n",
    "XTrainIN2Df = trainIN2Df.loc[:,[\"INT\", \"YDS\", \"YDS/REC\", \"LNG\", \"TDS\"]]\n",
    "YTrainIN2Df = trainIN2Df.loc[:,[\"Win/Loss\"]]\n",
    "XTestIN2Df = testIN2Df.loc[:,[\"INT\", \"YDS\", \"YDS/REC\", \"LNG\", \"TDS\"]]\n",
    "YTestIN2Df = testIN2Df.loc[:,[\"Win/Loss\"]]\n",
    "\n",
    "# Train a linear regression model on the in2 training data\n",
    "in2LinRegModel = LinearRegression()\n",
    "in2LinRegModel.fit(XTrainIN2Df,YTrainIN2Df)\n",
    "in2LinRegModel.coef_"
   ]
  },
  {
   "cell_type": "code",
   "execution_count": null,
   "metadata": {},
   "outputs": [],
   "source": [
    "# For each team, create a list containing the player stats for that team\n",
    "trainPlayersDfColumnNames = [\"Team\",\"OffQB1\",\"OffRB1\",\"OffRB2\",\"OffRB3\",\"OffWR1\",\"OffWR2\",\"OffWR3\",\"OffTCK1\",\"OffTCK2\",\"OffTCK3\",\"OffTCK4\",\"OffTCK5\",\"OffINT1\",\"OffINT2\"]\n",
    "teamPlayersPredsDf = pd.DataFrame(columns = trainPlayersDfColumnNames)\n",
    "for teamCode in teamCodes:\n",
    "    # Get the stats for players on the offense\n",
    "    OffWeekQB1Df = qb1Df.loc[teamCode == qb1Df[\"Team\"],[\"COMP%\", \"YDS/ATT\", \"TD%\",\"INT%\", \"RATE\"]]\n",
    "    Offqb1Preds = qb1LinRegModel.predict(OffWeekQB1Df)\n",
    "    Offqb1Pred = Offqb1Preds[0]\n",
    "    OffWeekRB3Df = rb3Df.loc[teamCode == rb3Df[\"Team\"],[\"ATT\", \"YDS\", \"YDS/ATT\", \"LNG\", \"TD\"]]\n",
    "    Offrb3Preds = rb3LinRegModel.predict(OffWeekRB3Df)\n",
    "    Offrb1Pred = Offrb3Preds[0]\n",
    "    Offrb2Pred = Offrb3Preds[1]\n",
    "    Offrb3Pred = Offrb3Preds[2]\n",
    "    OffWeekWR3Df = wr3Df.loc[teamCode == wr3Df[\"Team\"],[\"REC\",\"YDS\",\"YDS/REC\",\"LNG\",\"TD\"]]\n",
    "    Offwr3Preds = wr3LinRegModel.predict(OffWeekWR3Df)\n",
    "    Offwr1Pred = Offwr3Preds[0]\n",
    "    Offwr2Pred = Offwr3Preds[1]\n",
    "    Offwr3Pred = Offwr3Preds[2]\n",
    "    OffWeekTK5Df = tk5Df.loc[teamCode == tk5Df[\"Team\"],[\"TOTAL\", \"SOLO\", \"ASSIST\", \"SCK\", \"SFTY\", \"F\"]]\n",
    "    Offtk5Preds = tk5LinRegModel.predict(OffWeekTK5Df)\n",
    "    Offtk1Pred = Offtk5Preds[0]\n",
    "    Offtk2Pred = Offtk5Preds[1]\n",
    "    Offtk3Pred = Offtk5Preds[2]\n",
    "    Offtk4Pred = Offtk5Preds[3]\n",
    "    Offtk5Pred = Offtk5Preds[4]\n",
    "    OffWeekIN2Df = in2Df.loc[teamCode == in2Df[\"Team\"],[\"INT\", \"YDS\", \"YDS/REC\", \"LNG\", \"TDS\"]]\n",
    "    Offin2Preds = in2LinRegModel.predict(OffWeekIN2Df)\n",
    "    Offin1Pred = Offin2Preds[0]\n",
    "    Offin2Pred = Offin2Preds[1]\n",
    "    teamDf = pd.DataFrame(columns = trainPlayersDfColumnNames)\n",
    "    teamDf.loc[0] = [teamCode, Offqb1Pred[0],Offrb1Pred[0],Offrb2Pred[0],Offrb3Pred[0],Offwr1Pred[0],Offwr2Pred[0],Offwr3Pred[0],Offtk1Pred[0],Offtk2Pred[0],Offtk3Pred[0],Offtk4Pred[0],Offtk5Pred[0],Offin1Pred[0],Offin2Pred[0]]\n",
    "    teamPlayersPredsDf = teamPlayersPredsDf.append(teamDf)\n",
    "    \n",
    "teamPlayersPredsDf\n",
    "    "
   ]
  },
  {
   "cell_type": "code",
   "execution_count": null,
   "metadata": {},
   "outputs": [],
   "source": [
    "# Train a logistic regression model on the linear regression prediction for the training data games\n",
    "trainPlayersDfColumnNames = [\"OffQB1\",\"OffRB1\",\"OffRB2\",\"OffRB3\",\"OffWR1\",\"OffWR2\",\"OffWR3\",\"OffTCK1\",\"OffTCK2\",\"OffTCK3\",\"OffTCK4\",\"OffTCK5\",\"OffINT1\",\"OffINT2\",\"DefQB1\",\"DefRB1\",\"DefRB2\",\"DefRB3\",\"DefWR1\",\"DefWR2\",\"DefWR3\",\"DefTCK1\",\"DefTCK2\",\"DefTCK3\",\"DefTCK4\",\"DefTCK5\",\"DefINT1\",\"DefINT2\"]\n",
    "XTrainPlayersDf = pd.DataFrame(columns = trainPlayersDfColumnNames)\n",
    "for gamesIndex, gamesRow in trainGamesDf.iterrows():\n",
    "    offTeamDf = teamPlayersPredsDf.loc[teamPlayersPredsDf[\"Team\"] == gamesRow[\"TeamCode\"],:].values.tolist()\n",
    "    defTeamDf = teamPlayersPredsDf.loc[teamPlayersPredsDf[\"Team\"] == gamesRow[\"Opp\"],:].values.tolist()\n",
    "    statsList = offTeamDf[0][1:] + defTeamDf[0][1:]\n",
    "    weekDf = pd.DataFrame(columns = trainPlayersDfColumnNames)\n",
    "    weekDf.loc[0] = statsList\n",
    "    XTrainPlayersDf = XTrainPlayersDf.append(weekDf)\n",
    "    \n",
    "#XTrainPlayersDf\n",
    "    \n",
    "    "
   ]
  },
  {
   "cell_type": "code",
   "execution_count": null,
   "metadata": {},
   "outputs": [],
   "source": [
    "YTrainPlayersDf = trainGamesDf.loc[:,\"Win/Loss\"]\n",
    "YTrainPlayersDf"
   ]
  },
  {
   "cell_type": "code",
   "execution_count": null,
   "metadata": {},
   "outputs": [],
   "source": [
    "# Get player data for the test data set\n",
    "XTestPlayersDf = pd.DataFrame(columns = trainPlayersDfColumnNames)\n",
    "for gamesIndex, gamesRow in testGamesDf.iterrows():\n",
    "    offTeamDf = teamPlayersPredsDf.loc[teamPlayersPredsDf[\"Team\"] == gamesRow[\"TeamCode\"],:].values.tolist()\n",
    "    defTeamDf = teamPlayersPredsDf.loc[teamPlayersPredsDf[\"Team\"] == gamesRow[\"Opp\"],:].values.tolist()\n",
    "    statsList = offTeamDf[0][1:] + defTeamDf[0][1:]\n",
    "    weekDf = pd.DataFrame(columns = trainPlayersDfColumnNames)\n",
    "    weekDf.loc[0] = statsList\n",
    "    XTestPlayersDf = XTestPlayersDf.append(weekDf)\n",
    "    \n",
    "#XTestPlayersDf\n",
    "    \n",
    "    "
   ]
  },
  {
   "cell_type": "code",
   "execution_count": null,
   "metadata": {},
   "outputs": [],
   "source": [
    "YTestPlayersDf = testGamesDf.loc[:,\"Win/Loss\"]\n",
    "#YTestPlayersDf"
   ]
  },
  {
   "cell_type": "code",
   "execution_count": null,
   "metadata": {},
   "outputs": [],
   "source": [
    "logRegModel = LogisticRegression()\n",
    "logRegModel.fit(XTrainPlayersDf,YTrainPlayersDf)\n",
    "logRegTrainAccuracy = logRegModel.score(XTrainPlayersDf, YTrainPlayersDf)\n",
    "logRegTestAccuracy = logRegModel.score(XTestPlayersDf, YTestPlayersDf)\n",
    "print(\"Train accuracy: \" + str(logRegTrainAccuracy))\n",
    "print(\"Test accuracy: \" + str(logRegTestAccuracy))"
   ]
  },
  {
   "cell_type": "code",
   "execution_count": null,
   "metadata": {},
   "outputs": [],
   "source": [
    "logRegModel.coef_"
   ]
  },
  {
   "cell_type": "code",
   "execution_count": null,
   "metadata": {},
   "outputs": [],
   "source": [
    "# Create a logistic regression model using only offense stats to reduce noise\n",
    "XTrainPlayersOffDf = XTrainPlayersDf.loc[:,[\"OffQB1\",\"OffRB1\",\"OffRB2\",\"OffRB3\",\"OffWR1\",\"OffWR2\",\"OffWR3\",\"DefQB1\",\"DefRB1\",\"DefRB2\",\"DefRB3\",\"DefWR1\",\"DefWR2\",\"DefWR3\"]]\n",
    "XTestPlayersOffDf = XTestPlayersDf.loc[:,[\"OffQB1\",\"OffRB1\",\"OffRB2\",\"OffRB3\",\"OffWR1\",\"OffWR2\",\"OffWR3\",\"DefQB1\",\"DefRB1\",\"DefRB2\",\"DefRB3\",\"DefWR1\",\"DefWR2\",\"DefWR3\"]]\n",
    "offLogRegModel = LogisticRegression()\n",
    "offLogRegModel.fit(XTrainPlayersOffDf,YTrainPlayersDf)\n",
    "offLogRegTrainAccuracy = offLogRegModel.score(XTrainPlayersOffDf, YTrainPlayersDf)\n",
    "offLogRegTestAccuracy = offLogRegModel.score(XTestPlayersOffDf, YTestPlayersDf)\n",
    "print(\"Train accuracy: \" + str(offLogRegTrainAccuracy))\n",
    "print(\"Test accuracy: \" + str(offLogRegTestAccuracy))\n"
   ]
  },
  {
   "cell_type": "code",
   "execution_count": null,
   "metadata": {},
   "outputs": [],
   "source": [
    "offLogRegModel.coef_"
   ]
  },
  {
   "cell_type": "code",
   "execution_count": null,
   "metadata": {},
   "outputs": [],
   "source": [
    "# Find the indexes of games in the training data where the model predicts incorrectly\n",
    "logRegModelIncorrect = []\n",
    "offLogRegModelIncorrect = []\n",
    "for i in range(len(logRegModel.predict(XTrainPlayersDf))):\n",
    "    if logRegModel.predict(XTrainPlayersDf)[i] != YTrainPlayersDf.to_numpy()[i]:\n",
    "        logRegModelIncorrect.append(i)\n",
    "        \n",
    "for i in range(len(offLogRegModel.predict(XTrainPlayersOffDf))):\n",
    "    if offLogRegModel.predict(XTrainPlayersOffDf)[i] != YTrainPlayersDf.to_numpy()[i]:\n",
    "        offLogRegModelIncorrect.append(i)\n",
    "        \n",
    "print(logRegModelIncorrect)\n",
    "print(offLogRegModelIncorrect)"
   ]
  },
  {
   "cell_type": "code",
   "execution_count": null,
   "metadata": {
    "scrolled": false
   },
   "outputs": [],
   "source": [
    "# Create a dataframe of all incorrectly predicted games\n",
    "incorrectGamesDf = pd.DataFrame()\n",
    "for i in range(len(logRegModelIncorrect)):\n",
    "    incorrectGamesDf = incorrectGamesDf.append(trainGamesDf.iloc[logRegModelIncorrect[i],:])\n",
    "\n",
    "incorrectGamesDf = incorrectGamesDf[[\"TeamCode\",\"Opp\",\"Win/Loss\",\"Week\"]]\n",
    "#print(incorrectGamesDf.to_string())"
   ]
  },
  {
   "cell_type": "code",
   "execution_count": null,
   "metadata": {},
   "outputs": [],
   "source": [
    "# Train a decision tree model on the training data\n",
    "DTmodel = DecisionTreeClassifier(max_depth=5) \n",
    "DTmodel.fit(XTrainPlayersDf, YTrainPlayersDf)\n",
    "DTtrainingAccuracy = DTmodel.score(XTrainPlayersDf, YTrainPlayersDf)\n",
    "print(\"Training Accuracy: \", DTtrainingAccuracy)\n",
    "DTtestAccuracy = DTmodel.score(XTestPlayersDf, YTestPlayersDf)\n",
    "print(\"Test Accuracy: \", DTtestAccuracy)\n"
   ]
  },
  {
   "cell_type": "code",
   "execution_count": null,
   "metadata": {},
   "outputs": [],
   "source": [
    "# Train a random forst model on the training data\n",
    "RFmodel = RandomForestClassifier(max_depth=5) \n",
    "RFmodel.fit(XTrainPlayersDf, YTrainPlayersDf)\n",
    "RFtrainingAccuracy = RFmodel.score(XTrainPlayersDf, YTrainPlayersDf)\n",
    "print(\"Training Accuracy: \", RFtrainingAccuracy)\n",
    "RFtestAccuracy = RFmodel.score(XTestPlayersDf, YTestPlayersDf)\n",
    "print(\"Test Accuracy: \", RFtestAccuracy)"
   ]
  },
  {
   "cell_type": "code",
   "execution_count": null,
   "metadata": {},
   "outputs": [],
   "source": [
    "# Train a SVC on the training data\n",
    "SVCmodel = SVC()\n",
    "SVCmodel.fit(XTrainPlayersDf, YTrainPlayersDf)\n",
    "SVCtrainingAccuracy = SVCmodel.score(XTrainPlayersDf, YTrainPlayersDf)\n",
    "print(\"Training Accuracy: \", SVCtrainingAccuracy)\n",
    "SVCtestAccuracy = SVCmodel.score(XTestPlayersDf, YTestPlayersDf)\n",
    "print(\"Test Accuracy: \", SVCtestAccuracy)"
   ]
  },
  {
   "cell_type": "code",
   "execution_count": null,
   "metadata": {},
   "outputs": [],
   "source": [
    "# Train a neural network model \n",
    "NNmodel = MLPClassifier()\n",
    "NNmodel.fit(XTrainPlayersDf, YTrainPlayersDf)\n",
    "NNtrainingAccuracy = NNmodel.score(XTrainPlayersDf, YTrainPlayersDf)\n",
    "print(\"Training Accuracy: \", NNtrainingAccuracy)\n",
    "NNtestAccuracy = NNmodel.score(XTestPlayersDf, YTestPlayersDf)\n",
    "print(\"Test Accuracy: \", NNtestAccuracy)"
   ]
  },
  {
   "cell_type": "code",
   "execution_count": null,
   "metadata": {},
   "outputs": [],
   "source": [
    "# Find optimal number of neighbors for KNN model\n",
    "for i in range(1,10):\n",
    "    KNNmodel = KNeighborsClassifier(n_neighbors = i)\n",
    "    KNNmodel.fit(XTrainPlayersDf, YTrainPlayersDf)\n",
    "    KNNtrainingAccuracy = KNNmodel.score(XTrainPlayersDf, YTrainPlayersDf)\n",
    "    print(\"Training Accuracy \" + str(i) + \" Neighbors: \", KNNtrainingAccuracy)\n",
    "    KNNtestAccuracy = KNNmodel.score(XTestPlayersDf, YTestPlayersDf)\n",
    "    print(\"Test Accuracy \" + str(i) + \" Neighbors: \", KNNtestAccuracy)\n",
    "    \n",
    "# It seems like 5 neighbors is best"
   ]
  },
  {
   "cell_type": "code",
   "execution_count": null,
   "metadata": {},
   "outputs": [],
   "source": [
    "KNNmodel = KNeighborsClassifier(5)\n",
    "KNNmodel.fit(XTrainPlayersDf, YTrainPlayersDf)\n",
    "KNNtrainingAccuracy = KNNmodel.score(XTrainPlayersDf, YTrainPlayersDf)\n",
    "print(\"Training Accuracy \" + str(i) + \" Neighbors: \", KNNtrainingAccuracy)\n",
    "KNNtestAccuracy = KNNmodel.score(XTestPlayersDf, YTestPlayersDf)\n",
    "print(\"Test Accuracy \" + str(i) + \" Neighbors: \", KNNtestAccuracy)"
   ]
  },
  {
   "cell_type": "code",
   "execution_count": null,
   "metadata": {},
   "outputs": [],
   "source": [
    "# Plot accuracies for all models \n",
    "accuraciesDf = pd.DataFrame()\n",
    "#accuraciesDf = accuraciesDf.append([[\"Logistic Regression\",offLogRegTrainAccuracy,offLogRegTestAccuracy]])\n",
    "accuraciesDf = accuraciesDf.append([[\"Logistic Regression\",\"Train\",offLogRegTrainAccuracy]])\n",
    "accuraciesDf = accuraciesDf.append([[\"Logistic Regression\",\"Test\",offLogRegTestAccuracy]])\n",
    "#accuraciesDf = accuraciesDf.append([[\"Decision Tree\",DTtrainingAccuracy,DTtestAccuracy]])\n",
    "accuraciesDf = accuraciesDf.append([[\"Decision Tree\",\"Train\",DTtrainingAccuracy]])\n",
    "accuraciesDf = accuraciesDf.append([[\"Decision Tree\",\"Test\",DTtrainingAccuracy]])\n",
    "#accuraciesDf = accuraciesDf.append([[\"Random Forest\",RFtrainingAccuracy,RFtestAccuracy]])\n",
    "accuraciesDf = accuraciesDf.append([[\"Random Forest\",\"Train\",RFtrainingAccuracy]])\n",
    "accuraciesDf = accuraciesDf.append([[\"Random Forest\",\"Test\",RFtestAccuracy]])\n",
    "#accuraciesDf = accuraciesDf.append([[\"SVC\",SVCtrainingAccuracy,SVCtestAccuracy]])\n",
    "accuraciesDf = accuraciesDf.append([[\"SVC\",\"Train\",SVCtrainingAccuracy]])\n",
    "accuraciesDf = accuraciesDf.append([[\"SVC\",\"Test\",SVCtestAccuracy]])\n",
    "#accuraciesDf = accuraciesDf.append([[\"Neural Network\",NNtrainingAccuracy,NNtestAccuracy]])\n",
    "accuraciesDf = accuraciesDf.append([[\"Neural Network\",\"Train\",NNtrainingAccuracy]])\n",
    "accuraciesDf = accuraciesDf.append([[\"Neural Network\",\"Test\",NNtestAccuracy]])\n",
    "#accuraciesDf = accuraciesDf.append([[\"K-Nearest Neighbors\",KNNtrainingAccuracy,KNNtestAccuracy]])\n",
    "accuraciesDf = accuraciesDf.append([[\"K-Nearest Neighbors\",\"Train\",KNNtrainingAccuracy]])\n",
    "accuraciesDf = accuraciesDf.append([[\"K-Nearest Neighbors\",\"Test\",KNNtestAccuracy]])\n",
    "accuraciesDf\n",
    "ax = sns.barplot(x=accuraciesDf[0], y=accuraciesDf[2], hue=accuraciesDf[1],data=accuraciesDf)\n",
    "plt.xticks(rotation=90)\n",
    "ax.set(xlabel=\"Model\",ylabel=\"Accuracy\")\n",
    "plt.legend(bbox_to_anchor=(1.23, 1))\n"
   ]
  },
  {
   "cell_type": "code",
   "execution_count": null,
   "metadata": {},
   "outputs": [],
   "source": [
    "# Combine training and test player data into one DF for cross validation\n",
    "XTotalPlayersDf = pd.concat([XTrainPlayersDf,XTestPlayersDf])\n",
    "YTotalPlayersDf = pd.concat([YTrainPlayersDf,YTestPlayersDf])"
   ]
  },
  {
   "cell_type": "code",
   "execution_count": null,
   "metadata": {},
   "outputs": [],
   "source": [
    "# Use cross validation for more data about the accuracies of models \n",
    "numFolds = 10\n",
    "LRcv_results = model_selection.cross_val_score(LogisticRegression(), XTotalPlayersDf, YTotalPlayersDf, cv=numFolds, scoring=\"accuracy\")\n",
    "print(\"Logistic Regression Mean: \", LRcv_results.mean())\n",
    "print(\"Logistic Regression Std Dev: \", LRcv_results.std())\n",
    "\n",
    "DTcv_results = model_selection.cross_val_score(DecisionTreeClassifier(max_depth=5) , XTotalPlayersDf, YTotalPlayersDf, cv=numFolds, scoring=\"accuracy\")\n",
    "print(\"Decision Tree Mean: \", DTcv_results.mean())\n",
    "print(\"Decision Tree Std Dev: \", DTcv_results.std())\n",
    "\n",
    "RFcv_results = model_selection.cross_val_score(RandomForestClassifier(max_depth=5), XTotalPlayersDf, YTotalPlayersDf, cv=numFolds, scoring=\"accuracy\")\n",
    "print(\"Random Forest Mean: \", RFcv_results.mean())\n",
    "print(\"Random Forest Std Dev: \", RFcv_results.std())\n",
    "\n",
    "SVCcv_results = model_selection.cross_val_score(SVC(), XTotalPlayersDf, YTotalPlayersDf, cv=numFolds, scoring=\"accuracy\")\n",
    "print(\"SVC Mean: \", SVCcv_results.mean())\n",
    "print(\"SVC Std Dev: \", SVCcv_results.std())\n",
    "\n",
    "NNcv_results = model_selection.cross_val_score(MLPClassifier(), XTotalPlayersDf, YTotalPlayersDf, cv=numFolds, scoring=\"accuracy\")\n",
    "print(\"Neural Network Mean: \", NNcv_results.mean())\n",
    "print(\"Neural Network Std Dev: \", NNcv_results.std())\n",
    "\n",
    "KNNcv_results = model_selection.cross_val_score(KNeighborsClassifier(n_neighbors = 6), XTotalPlayersDf, YTotalPlayersDf, cv=numFolds, scoring=\"accuracy\")\n",
    "print(\"K-Nearest Neighbors Mean: \", KNNcv_results.mean())\n",
    "print(\"K-Nearest Neighbors Std Dev: \", KNNcv_results.std())\n"
   ]
  },
  {
   "cell_type": "code",
   "execution_count": null,
   "metadata": {},
   "outputs": [],
   "source": [
    "# Plot each individual cross validation fold's accuracy\n",
    "allResults = [LRcv_results, DTcv_results, RFcv_results, SVCcv_results, NNcv_results, KNNcv_results]\n",
    "sns.lineplot(data=allResults)\n",
    "plt.xlabel(\"Number of Folds\")\n",
    "plt.ylabel(\"Accuracy\")\n",
    "plt.legend(labels=[\"Logistic Regression\", \"Decision Tree\", \"Random Forest\", \"SVC\", \"Neural Network\", \"K-Nearest Neighbors\"], bbox_to_anchor=(1.05, 1))"
   ]
  },
  {
   "cell_type": "code",
   "execution_count": null,
   "metadata": {},
   "outputs": [],
   "source": [
    "boxplot = sns.boxplot(data=allResults)\n",
    "boxplot.set_xticklabels([\"Logistic Regression\", \"Decision Tree\", \"Random Forest\", \"SVC\", \"Neural Network\", \"K-Nearest Neighbors\"])\n",
    "plt.xlabel(\"Model\")\n",
    "plt.ylabel(\"Accuracy\")\n",
    "plt.xticks(rotation=90)\n"
   ]
  },
  {
   "cell_type": "code",
   "execution_count": null,
   "metadata": {},
   "outputs": [],
   "source": [
    "# Calculate p values of comparing the different models\n",
    "print(\"Logistic Regression vs Decision Tree: p = \" + str(ranksums(allResults[0],allResults[1])[1]))\n",
    "print(\"Logistic Regression vs Random Forest: p = \" + str(ranksums(allResults[0],allResults[2])[1]))\n",
    "print(\"Logistic Regression vs SVC: p = \" + str(ranksums(allResults[0],allResults[3])[1]))\n",
    "print(\"Logistic Regression vs Neural Network: p = \" + str(ranksums(allResults[0],allResults[4])[1]))\n",
    "print(\"Logistic Regression vs K-Nearest Neighbors: p = \" + str(ranksums(allResults[0],allResults[5])[1]))\n",
    "print(\"Decision Tree vs Random Forest: p = \" + str(ranksums(allResults[1],allResults[2])[1]))\n",
    "print(\"Decision Tree vs SVC: p = \" + str(ranksums(allResults[1],allResults[3])[1]))\n",
    "print(\"Decision Tree vs Neural Network: p = \" + str(ranksums(allResults[1],allResults[4])[1]))\n",
    "print(\"Decision Tree vs K-Nearest Neighbors: p = \" + str(ranksums(allResults[1],allResults[5])[1]))\n",
    "print(\"Random Forest vs SVC: p = \" + str(ranksums(allResults[2],allResults[3])[1]))\n",
    "print(\"Random Forest vs Neural Network: p = \" + str(ranksums(allResults[2],allResults[4])[1]))\n",
    "print(\"Random Forest vs K-Nearest Neighbors: p = \" + str(ranksums(allResults[2],allResults[5])[1]))\n",
    "print(\"SVC vs Neural Network: p = \" + str(ranksums(allResults[3],allResults[4])[1]))\n",
    "print(\"SVC vs K-Nearest Neighbors: p = \" + str(ranksums(allResults[3],allResults[5])[1]))\n",
    "print(\"Neural Network vs K-Nearest Neighbors: p = \" + str(ranksums(allResults[4],allResults[5])[1]))"
   ]
  },
  {
   "cell_type": "code",
   "execution_count": null,
   "metadata": {},
   "outputs": [],
   "source": [
    "# Make predictions for the upcoming week 11 games\n",
    "\n",
    "week12Games = [[\"det\",\"chi\"],[\"cin\",\"mia\"],[\"clt\",\"htx\"],[\"jax\",\"min\"],[\"rai\",\"nyj\"],[\"nor\",\"atl\"],[\"cle\",\"oti\"],[\"nyg\",\"sea\"],[\"ram\",\"crd\"],[\"phi\",\"gnb\"],[\"nwe\",\"sdg\"],[\"den\",\"kan\"],[\"buf\",\"sfo\"],[\"was\",\"pit\"],[\"dal\",\"rav\"]]\n",
    "trainPlayersDfColumnNames = [\"OffQB1\",\"OffRB1\",\"OffRB2\",\"OffRB3\",\"OffWR1\",\"OffWR2\",\"OffWR3\",\"OffTCK1\",\"OffTCK2\",\"OffTCK3\",\"OffTCK4\",\"OffTCK5\",\"OffINT1\",\"OffINT2\",\"DefQB1\",\"DefRB1\",\"DefRB2\",\"DefRB3\",\"DefWR1\",\"DefWR2\",\"DefWR3\",\"DefTCK1\",\"DefTCK2\",\"DefTCK3\",\"DefTCK4\",\"DefTCK5\",\"DefINT1\",\"DefINT2\"]\n",
    "week12Df = pd.DataFrame(columns = trainPlayersDfColumnNames)\n",
    "for matchup in week12Games:\n",
    "    offTeamDf = teamPlayersPredsDf.loc[teamPlayersPredsDf[\"Team\"] == matchup[0],:].values.tolist()\n",
    "    defTeamDf = teamPlayersPredsDf.loc[teamPlayersPredsDf[\"Team\"] == matchup[1],:].values.tolist()\n",
    "    statsList = offTeamDf[0][1:] + defTeamDf[0][1:]\n",
    "    weekDf = pd.DataFrame(columns = trainPlayersDfColumnNames)\n",
    "    weekDf.loc[0] = statsList\n",
    "    week12Df = week12Df.append(weekDf)\n",
    "    \n",
    "week12Df\n"
   ]
  },
  {
   "cell_type": "code",
   "execution_count": null,
   "metadata": {},
   "outputs": [],
   "source": [
    "weekl2PredsDf = pd.DataFrame(columns = [\"Team\",\"Opp\",\"Predicted Outcome\"])\n",
    "for i in range(15):\n",
    "    matchupPred = NNmodel.predict(week12Df)[i]\n",
    "    matchupList = [week12Games[i][0], week12Games[i][1], matchupPred]\n",
    "    matchupDf = pd.DataFrame(columns = [\"Team\",\"Opp\",\"Predicted Outcome\"])\n",
    "    matchupDf.loc[0] = matchupList\n",
    "    weekl2PredsDf = weekl2PredsDf.append(matchupDf)\n",
    "    if(matchupPred== \"1\"):\n",
    "        print(week12Games[i][0] + \" wins against \" + week12Games[i][1])\n",
    "    else:\n",
    "        print(week12Games[i][1] + \" wins against \" + week12Games[i][0])\n",
    "        \n",
    "print(weekl2PredsDf.to_string())"
   ]
  },
  {
   "cell_type": "code",
   "execution_count": null,
   "metadata": {},
   "outputs": [],
   "source": [
    "logRegModel.coef_"
   ]
  },
  {
   "cell_type": "code",
   "execution_count": null,
   "metadata": {},
   "outputs": [],
   "source": []
  }
 ],
 "metadata": {
  "kernelspec": {
   "display_name": "Python 3",
   "language": "python",
   "name": "python3"
  },
  "language_info": {
   "codemirror_mode": {
    "name": "ipython",
    "version": 3
   },
   "file_extension": ".py",
   "mimetype": "text/x-python",
   "name": "python",
   "nbconvert_exporter": "python",
   "pygments_lexer": "ipython3",
   "version": "3.8.3"
  }
 },
 "nbformat": 4,
 "nbformat_minor": 4
}
